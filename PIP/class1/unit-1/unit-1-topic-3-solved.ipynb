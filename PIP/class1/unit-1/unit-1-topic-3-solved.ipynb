{
 "cells": [
  {
   "cell_type": "markdown",
   "metadata": {},
   "source": [
    "# 1. Introduction to Python\n",
    "## 1.2. Names and name memory model, objects"
   ]
  },
  {
   "cell_type": "markdown",
   "metadata": {},
   "source": [
    "There are 5 simple (built-in, primitive) data types in Python:\n",
    "- **bool** – stores True or False\n",
    "- **int** – stores an integer\n",
    "- **float** – stores a decimal number\n",
    "- **str** – stores zero or more characters (text or string)\n",
    "- **complex** – stores a complex number (x + yj)\n"
   ]
  },
  {
   "cell_type": "markdown",
   "metadata": {},
   "source": [
    "## Variables"
   ]
  },
  {
   "attachments": {},
   "cell_type": "markdown",
   "metadata": {},
   "source": [
    "Variable is a named part of memory large enough to hold data of the requested type.\n",
    "\n",
    "The variable is defined by:\n",
    "- Name\n",
    "    - The name of something (including a variable) is also called an identifier\n",
    "- Data type\n",
    "- Starting address in memory\n",
    "\n",
    "### Creating variables\n",
    "\n",
    "By creating a variable, we take a part of the working memory:\n",
    "```python\n",
    "variable_name = value\n",
    "```\n",
    "\n",
    "Name rules:\n",
    "- The name may contain the following characters:\n",
    "    - Lowercase and uppercase letters of the English alphabet a...z and A...Z\n",
    "    - Digits 0...9\n",
    "    - Underscore (English underscore) _\n",
    "- The name must not start with a digit\n",
    "- The name must not be a Python reserved word\n",
    "- Names are case sensitive\n",
    "    - Number, number, nUmBeR, NUMBER, ... are not the same names\n",
    "\n",
    "### Variable type\n",
    "\n",
    "- Every Python variable is of exactly one type\n",
    "- The variable type is indirectly determined when the variable is created\n",
    "- The type can be changed later (not recommended!)\n",
    "\n",
    "The type can be obtained with the function **type()**\n",
    "\n",
    "### Literals\n",
    "\n",
    "Literals are literal values ​​that we assign to variables. They are written to the right of the equal sign.\n",
    "\n",
    "The following rules apply:\n",
    "- We enter **bool** as True or False\n",
    "- **int** is entered as a positive or negative number without a decimal point\n",
    "- **float** is entered as a number with a decimal point\n",
    "- **complex** is entered as a complex number e.g. 6 + 5j (not 6 + 5i)\n",
    "- **string** is entered as characters inside single or double quotes\n",
    "\n",
    "### Additional variable options\n",
    "\n",
    "We can define a variable using an expression instead of a literal:\n",
    "```python\n",
    "    area = (10.0 * 10.0) / 3.14\n",
    "```\n",
    "When defining variables, we can also use duplicate assignment:\n",
    "```python\n",
    "    a = b = c = 17\n",
    "```\n",
    "In the same expression we can define multiple variables with multiple different values:\n",
    "```python\n",
    "    student, grade, average = \"Ana Anić\", 5, 4.75\n",
    "```"
   ]
  },
  {
   "cell_type": "markdown",
   "metadata": {},
   "source": [
    "## Printing"
   ]
  },
  {
   "cell_type": "markdown",
   "metadata": {},
   "source": [
    "To print, we use the function:\n",
    "```python\n",
    "     print()\n",
    "```\n",
    "\n",
    "As a parameter we can send:\n",
    "- **Nothing** => an empty line is printed\n",
    "- **Literal** => exactly that literal is printed\n",
    "- **Variable** => its value is printed\n",
    "- **Multiple variables separated by commas** => all values separated by spaces are printed\n",
    "\n",
    "Special characters we can print:\n",
    "- **\\n** = also indicates transition to a new line (enter)\n",
    "- **\\t** = indicates tab"
   ]
  },
  {
   "cell_type": "markdown",
   "metadata": {},
   "source": [
    "<br><div class=\"alert alert-info\"><b>Example 01</b></div>\n",
    "Write a program that prints three names: \"Peter\", \"Mark\" and \"Joanna\" - each name on its own line with a blank line in between."
   ]
  },
  {
   "cell_type": "code",
   "execution_count": 5,
   "metadata": {},
   "outputs": [
    {
     "name": "stdout",
     "output_type": "stream",
     "text": [
      "Peter\n",
      "\n",
      "Mark\n",
      "\n",
      "Joanna\n"
     ]
    }
   ],
   "source": [
    "print(\"Peter\")\n",
    "print()\n",
    "print(\"Mark\\n\")\n",
    "print(\"Joanna\")"
   ]
  },
  {
   "cell_type": "markdown",
   "metadata": {},
   "source": [
    "<br><div class=\"alert alert-info\"><b>Example 02</b></div>\n",
    "Declare 5 variables of different types and assign values to them. Print the type and the value of each variable."
   ]
  },
  {
   "cell_type": "code",
   "execution_count": 3,
   "metadata": {},
   "outputs": [
    {
     "name": "stdout",
     "output_type": "stream",
     "text": [
      "Type of variable is: <class 'int'> Value: 20\n",
      "Type of variable is: <class 'float'> Value: 8.25\n",
      "Type of variable is: <class 'complex'> Value: (2+3j)\n",
      "Type of variable is: <class 'str'> Value: John Smith\n",
      "Type of variable is: <class 'bool'> Value: True\n"
     ]
    }
   ],
   "source": [
    "a = 20\n",
    "b = 8.25\n",
    "c = 2 + 3j\n",
    "d = \"John Smith\"\n",
    "e = True\n",
    "\n",
    "print(\"Type of variable is:\", type(a), \"Value:\", a)\n",
    "print(\"Type of variable is:\", type(b), \"Value:\", b)\n",
    "print(\"Type of variable is:\", type(c), \"Value:\", c)\n",
    "print(\"Type of variable is:\", type(d), \"Value:\", d)\n",
    "print(\"Type of variable is:\", type(e), \"Value:\", e)"
   ]
  },
  {
   "cell_type": "markdown",
   "metadata": {},
   "source": [
    "<br><div class=\"alert alert-info\"><b>Example 03</b></div>\n",
    "Declare two variables and assign them a numeric value. Print the product of those two numbers."
   ]
  },
  {
   "cell_type": "code",
   "execution_count": 8,
   "metadata": {},
   "outputs": [
    {
     "name": "stdout",
     "output_type": "stream",
     "text": [
      "10 * 5  =  50\n"
     ]
    }
   ],
   "source": [
    "a = 10\n",
    "b = 5\n",
    "print(a, \"*\", b, \" = \", a*b)"
   ]
  },
  {
   "cell_type": "markdown",
   "metadata": {},
   "source": [
    "### Loading a value from the user"
   ]
  },
  {
   "cell_type": "markdown",
   "metadata": {},
   "source": [
    "Loading is done with the function **input()**:\n",
    "```python\n",
    "     variable = input(\"text that the user sees: \")\n",
    "```"
   ]
  },
  {
   "cell_type": "markdown",
   "metadata": {},
   "source": [
    "<br><div class=\"alert alert-info\"><b>Example 04</b></div>\n",
    "Write a program that loads the name from the user and prints the loaded value."
   ]
  },
  {
   "cell_type": "code",
   "execution_count": 10,
   "metadata": {},
   "outputs": [
    {
     "name": "stdout",
     "output_type": "stream",
     "text": [
      "Entered name is:  John\n"
     ]
    }
   ],
   "source": [
    "name = input(\"Enter a single name: \")\n",
    "print(\"Entered name is: \",name)"
   ]
  },
  {
   "cell_type": "markdown",
   "metadata": {},
   "source": [
    "### Numbers\n",
    "<div class=\"alert alert-info\"><b>Example 05</b></div>\n",
    "Write a program that loads two numbers from the user and prints their sum."
   ]
  },
  {
   "cell_type": "code",
   "execution_count": 11,
   "metadata": {},
   "outputs": [
    {
     "name": "stdout",
     "output_type": "stream",
     "text": [
      "1 + 2 = 12\n"
     ]
    }
   ],
   "source": [
    "a = input(\"Enter the 1st number:\")\n",
    "b = input(\"Enter the 2nd number:\")\n",
    "print(a, \"+\" ,b ,\"=\", a+b)"
   ]
  },
  {
   "attachments": {},
   "cell_type": "markdown",
   "metadata": {},
   "source": [
    "**Type of the loaded variable is always string!!**\n",
    "\n",
    "We can convert it to the desired type using the functions:\n",
    "- **int()** converts to int\n",
    "- **float()** converts to a float\n",
    "- **complex()** converts to complex\n",
    "- **bool()** converts to bool\n",
    "- **str()** converts to str (really? :D)"
   ]
  },
  {
   "cell_type": "markdown",
   "metadata": {},
   "source": [
    "Let's try to convert string \"-5\" to each of these types."
   ]
  },
  {
   "cell_type": "code",
   "execution_count": 8,
   "metadata": {},
   "outputs": [
    {
     "name": "stdout",
     "output_type": "stream",
     "text": [
      "-5\n",
      "-5.0\n",
      "(-5+0j)\n",
      "True\n",
      "-5\n"
     ]
    }
   ],
   "source": [
    "x = int(\"-5\")\n",
    "print(x)\n",
    "x = float(\"-5\")\n",
    "print(x)\n",
    "x = complex(\"-5\")\n",
    "print(x)\n",
    "x = bool(\"-5\")\n",
    "print(x)\n",
    "x = str(\"-5\")\n",
    "print(x)\n"
   ]
  },
  {
   "cell_type": "markdown",
   "metadata": {},
   "source": [
    "<br><div class=\"alert alert-info\"><b>Example 06</b></div>\n",
    "Correct the previous example so that the program adds the two loaded numbers."
   ]
  },
  {
   "cell_type": "code",
   "execution_count": 13,
   "metadata": {},
   "outputs": [
    {
     "name": "stdout",
     "output_type": "stream",
     "text": [
      "1 + 2 = 3\n"
     ]
    }
   ],
   "source": [
    "a = int(input(\"Enter the 1st number:\"))\n",
    "b = int(input(\"Enter the 2nd number:\"))\n",
    "a2 = int(a)\n",
    "b2 = int(b)\n",
    "print(a, \"+\" ,b ,\"=\", a2+b2)"
   ]
  },
  {
   "cell_type": "markdown",
   "metadata": {},
   "source": [
    "### Mathematical operations\n",
    "Python has built-in support for integers (whole numbers such as 5 and 1,000,000,000) and floating point numbers (such as 3.1416, 14.99, and 1.87e4).\n",
    "\n",
    "You can calculate combinations of numbers with the simple math operators:\n",
    "* `+` addition (like `5 + 8`)\n",
    "* `-` subtraction (like `90 - 10`)\n",
    "* `*` multiplication (like `4 * 7`)\n",
    "* `/` floating point division (like `7 / 2`, which equals `3.5`)\n",
    "* `//` integer (truncating) division (like `7 // 2`, which equals `3`)\n",
    "* `%` modulus (remainder) (like `7 % 3`, which equals `1`)\n",
    "* `**` exponentiation (like `3 ** 4`, which equals `81`)"
   ]
  },
  {
   "cell_type": "code",
   "execution_count": 11,
   "metadata": {},
   "outputs": [
    {
     "name": "stdout",
     "output_type": "stream",
     "text": [
      "5\n",
      "-4\n",
      "14\n",
      "(6+5j)\n",
      "-5\n",
      "42\n",
      "48.75\n",
      "252\n",
      "1.8\n",
      "46.15\n",
      "1\n",
      "3\n",
      "9\n"
     ]
    }
   ],
   "source": [
    "x = 5\n",
    "print(x)\n",
    "x = 1 - 5\n",
    "print(x)\n",
    "x = 5 + 9\n",
    "print(x)\n",
    "x = 5 + 9j + 1 - 4j\n",
    "print(x)\n",
    "x = -5\n",
    "print(x)\n",
    "x = 6 * 7\n",
    "print(x)\n",
    "x = 6.5 * 7.5\n",
    "print(x)\n",
    "x = 6 * 7 * 2 * 3\n",
    "print(x)\n",
    "x = 9 / 5\n",
    "print(x)\n",
    "x = 9.23 / 0.2\n",
    "print(x)\n",
    "x = 9 // 5\n",
    "print(x)\n",
    "x = 7 // 2\n",
    "print(x)\n",
    "x = 3**2\n",
    "print(x)"
   ]
  },
  {
   "cell_type": "markdown",
   "metadata": {},
   "source": [
    "Python doesn't know how to divide with 0."
   ]
  },
  {
   "cell_type": "code",
   "execution_count": 5,
   "metadata": {},
   "outputs": [
    {
     "ename": "ZeroDivisionError",
     "evalue": "division by zero",
     "output_type": "error",
     "traceback": [
      "\u001b[1;31m---------------------------------------------------------------------------\u001b[0m",
      "\u001b[1;31mZeroDivisionError\u001b[0m                         Traceback (most recent call last)",
      "\u001b[1;32mc:\\Work\\PIP\\Vjezbe-2022\\unit-1\\unit-1-topic-3-solved.ipynb Cell 25\u001b[0m in \u001b[0;36m<cell line: 1>\u001b[1;34m()\u001b[0m\n\u001b[1;32m----> <a href='vscode-notebook-cell:/c%3A/Work/PIP/Vjezbe-2022/unit-1/unit-1-topic-3-solved.ipynb#Y154sZmlsZQ%3D%3D?line=0'>1</a>\u001b[0m x \u001b[39m=\u001b[39m \u001b[39m5\u001b[39;49m \u001b[39m/\u001b[39;49m \u001b[39m0\u001b[39;49m\n\u001b[0;32m      <a href='vscode-notebook-cell:/c%3A/Work/PIP/Vjezbe-2022/unit-1/unit-1-topic-3-solved.ipynb#Y154sZmlsZQ%3D%3D?line=1'>2</a>\u001b[0m \u001b[39mprint\u001b[39m(x)\n\u001b[0;32m      <a href='vscode-notebook-cell:/c%3A/Work/PIP/Vjezbe-2022/unit-1/unit-1-topic-3-solved.ipynb#Y154sZmlsZQ%3D%3D?line=2'>3</a>\u001b[0m x \u001b[39m=\u001b[39m \u001b[39m7\u001b[39m \u001b[39m/\u001b[39m\u001b[39m/\u001b[39m \u001b[39m0\u001b[39m\n",
      "\u001b[1;31mZeroDivisionError\u001b[0m: division by zero"
     ]
    }
   ],
   "source": [
    "x = 5 / 0\n",
    "print(x)\n",
    "x = 7 // 0\n",
    "print(x)"
   ]
  },
  {
   "cell_type": "markdown",
   "metadata": {},
   "source": [
    "<br><div class=\"alert alert-info\"><b>Example 07</b></div>\n",
    "Change the previous example so that the program adds the two loaded numbers and multiplies the sum with 5."
   ]
  },
  {
   "cell_type": "code",
   "execution_count": 3,
   "metadata": {},
   "outputs": [
    {
     "name": "stdout",
     "output_type": "stream",
     "text": [
      "The result is 11\n"
     ]
    }
   ],
   "source": [
    "a = int(input(\"Enter the 1st number:\"))\n",
    "b = int(input(\"Enter the 2nd number:\"))\n",
    "a2 = int(a)\n",
    "b2 = int(b)\n",
    "result = a2+b2*5\n",
    "print(\"The result is\", result)"
   ]
  },
  {
   "cell_type": "markdown",
   "metadata": {},
   "source": [
    "**Precedence of operations does matter!**\n",
    "\n",
    "These two operations are different:\n",
    "  - result = a2+b2*5\n",
    "  - result = (a2+b2)*5\n",
    "\n",
    "Multiplication has a higher precedence than addition, which means that it's calculated before addition.\n",
    "\n",
    "It's the same as in a common mathematical expression. You have to use brackets."
   ]
  },
  {
   "cell_type": "code",
   "execution_count": 4,
   "metadata": {},
   "outputs": [
    {
     "name": "stdout",
     "output_type": "stream",
     "text": [
      "The result is 15\n"
     ]
    }
   ],
   "source": [
    "a = int(input(\"Enter the 1st number:\"))\n",
    "b = int(input(\"Enter the 2nd number:\"))\n",
    "a2 = int(a)\n",
    "b2 = int(b)\n",
    "result = (a2+b2)*5\n",
    "print(\"The result is\", result)"
   ]
  },
  {
   "cell_type": "markdown",
   "metadata": {},
   "source": [
    "<br><div class=\"alert alert-info\"><b>Example 08</b></div>\n",
    "Load first name, last name and the date of birth of a user. Print the loaded values (each on its own line)."
   ]
  },
  {
   "cell_type": "code",
   "execution_count": 14,
   "metadata": {},
   "outputs": [
    {
     "name": "stdout",
     "output_type": "stream",
     "text": [
      "Name: John\n",
      "Last Name Smith\n",
      "Birth date: 5.7.1992.\n"
     ]
    }
   ],
   "source": [
    "firstname = input(\"Enter first name:\")\n",
    "lastname = input(\"Enter last name:\")\n",
    "birthdate = input(\"Enter date of birth:\")\n",
    "print(\"Name:\", firstname)\n",
    "print(\"Last Name\", lastname)\n",
    "print(\"Birth date:\", birthdate)"
   ]
  },
  {
   "cell_type": "markdown",
   "metadata": {},
   "source": [
    "<br><div class=\"alert alert-info\"><b>Example 09</b></div>\n",
    "Write a program that converts engine power from kW to horsepower (1 kw = 1.341 Ks). Load the motor power in kW from the user."
   ]
  },
  {
   "cell_type": "code",
   "execution_count": 18,
   "metadata": {},
   "outputs": [
    {
     "name": "stdout",
     "output_type": "stream",
     "text": [
      "Motor power in hp: 107.28 hp\n"
     ]
    }
   ],
   "source": [
    "kW = int(input(\"Enter motor power in kW:\"))\n",
    "print(\"Motor power in hp:\", kW*1.341, \"hp\")"
   ]
  },
  {
   "cell_type": "markdown",
   "metadata": {},
   "source": [
    "<br><div class=\"alert alert-info\"><b>Example 10</b></div>\n",
    "The student received grades 2, 4, 4, 5, 3, 5. Calculate the mean score and standard deviation.\n",
    "\n",
    "#### Standard deviation\n",
    "![deviation](Images/deviation.JPG)\n",
    "\n",
    "#### Exponentiation and the square root\n",
    "\n",
    "You need to load the **math** library:\n",
    "```python\n",
    "     import math as m\n",
    "```\n",
    "Exponentiation:\n",
    "```python\n",
    "     m.pow(base, exponent)\n",
    "```\n",
    "Square root:\n",
    "```python\n",
    "     m.sqrt(value)\n",
    "```"
   ]
  },
  {
   "cell_type": "code",
   "execution_count": 20,
   "metadata": {},
   "outputs": [
    {
     "name": "stdout",
     "output_type": "stream",
     "text": [
      "The average grade is: 3.8333333333333335\n",
      "The standard deviation is: 1.0671873729054748\n",
      "\n",
      "Two decimal places\n",
      "The average grade is: 3.83\n",
      "The standard deviation is: 1.07\n"
     ]
    }
   ],
   "source": [
    "import math as m\n",
    "a,b,c,d,e,f = 2,4,4,5,3,5\n",
    "sum = a+b+c+d+e+f\n",
    "pro = sum/6\n",
    "variance = m.pow(a-pro,2)+m.pow(b-pro,2)+m.pow(c-pro,2)+m.pow(d-pro,2)+m.pow( e-pro,2)+m.pow(f-pro,2)\n",
    "print(\"The average grade is:\", pro)\n",
    "print(\"The standard deviation is:\", m.sqrt(variance/6))\n",
    "print()\n",
    "print(\"Two decimal places\")\n",
    "print(\"The average grade is:\", round(pro,2))\n",
    "print(\"The standard deviation is:\", round(m.sqrt(variance/6),2))"
   ]
  },
  {
   "cell_type": "markdown",
   "metadata": {},
   "source": [
    "<br><div class=\"alert alert-info\"><b>Example 11</b></div>\n",
    "Write a program that takes three inputs and outputs in the following manner: first output is not indented, second output is indented with 2 spaces and third output is indented with 4 spaces."
   ]
  },
  {
   "cell_type": "code",
   "execution_count": 6,
   "metadata": {},
   "outputs": [
    {
     "name": "stdout",
     "output_type": "stream",
     "text": [
      "An Informal Introduction to Python\n",
      "  Using Python as a Calculator\n",
      "    Numbers\n"
     ]
    }
   ],
   "source": [
    "title = input(\"Enter title:\")\n",
    "sub = input(\"Enter subtitle:\")\n",
    "section = input(\"Enter section title:\")\n",
    "\n",
    "print(title)\n",
    "print(\"  \" + sub)\n",
    "print(\"    \" + section)\n"
   ]
  },
  {
   "cell_type": "markdown",
   "metadata": {},
   "source": [
    "<br><div class=\"alert alert-info\"><b>Example 12</b></div>\n",
    "Write a program that takes an input and writes that input 10 times in a row, with space between each print and at the end.\n",
    "For input \"John\", output should be \"John John John John John John John John John John \"."
   ]
  },
  {
   "cell_type": "code",
   "execution_count": 8,
   "metadata": {},
   "outputs": [
    {
     "name": "stdout",
     "output_type": "stream",
     "text": [
      "John John John John John John John John John John \n"
     ]
    }
   ],
   "source": [
    "str = input(\"Enter a string value:\")\n",
    "str = str + \" \"\n",
    "str = str*10\n",
    "print(str)"
   ]
  },
  {
   "cell_type": "markdown",
   "metadata": {},
   "source": [
    "<br><div class=\"alert alert-info\"><b>Example 13</b></div>\n",
    "Write a program that takes a first and a last name. Then output a greeting message with the acronym.\n",
    "For John Smith, the message should be \"Hi JS!\""
   ]
  },
  {
   "cell_type": "code",
   "execution_count": 10,
   "metadata": {},
   "outputs": [
    {
     "name": "stdout",
     "output_type": "stream",
     "text": [
      "Hi JS!\n"
     ]
    }
   ],
   "source": [
    "fname = input(\"Enter your first name:\")\n",
    "lname = input(\"Enter your last name:\")\n",
    "acronym = fname[0] + lname[0]\n",
    "print(\"Hi \" + acronym + \"!\")"
   ]
  },
  {
   "cell_type": "markdown",
   "metadata": {},
   "source": [
    "<br><div class=\"alert alert-info\"><b>Example 14</b></div>\n",
    "Write a program that takes two numbers and uses them as start and end position.\n",
    "Then it outputs all the letters of an alphabet from start to end position.\n",
    "\n",
    "> Pay attention: positions of letters in Python string are called indices. \n",
    ">\n",
    "> Indices start at **0**, not at 1.\n",
    "\n",
    "For 4 and 9, the output should be **efghi**.\n"
   ]
  },
  {
   "cell_type": "code",
   "execution_count": 16,
   "metadata": {},
   "outputs": [
    {
     "name": "stdout",
     "output_type": "stream",
     "text": [
      "efghi\n"
     ]
    }
   ],
   "source": [
    "pos_from = int(input(\"First letter position:\"))\n",
    "pos_to = int(input(\"Last letter position:\"))\n",
    "alphabet = 'abcdefghijklmnopqrstuvwxyz'\n",
    "print(alphabet[pos_from:pos_to])"
   ]
  },
  {
   "cell_type": "markdown",
   "metadata": {},
   "source": [
    "<br><div class=\"alert alert-info\"><b>Example 15</b></div>\n",
    "Correct the last program in order to take into account a position that would be easier to understand by a human. Meaning that positioning should start from 1.\n",
    "\n",
    "For 4 and 9, the output should be **defgh**.\n"
   ]
  },
  {
   "cell_type": "code",
   "execution_count": 32,
   "metadata": {},
   "outputs": [
    {
     "name": "stdout",
     "output_type": "stream",
     "text": [
      "defgh\n"
     ]
    }
   ],
   "source": [
    "pos_from = int(input(\"First letter position:\")) - 1\n",
    "pos_to = int(input(\"Last letter position:\")) - 1\n",
    "alphabet = 'abcdefghijklmnopqrstuvwxyz'\n",
    "print(alphabet[pos_from:pos_to])"
   ]
  },
  {
   "cell_type": "markdown",
   "metadata": {},
   "source": [
    "> If you omit the second number, it means until the end of the string. E.g. `alphabet[10:]` would mean `\"klmnopqrstuvwxyz\"`"
   ]
  },
  {
   "cell_type": "markdown",
   "metadata": {},
   "source": [
    "<br><div class=\"alert alert-info\"><b>Example 16</b></div>\n",
    "Write the program that takes a sentence and outputs:\n",
    "- length of the sentence\n",
    "- sentence with first word capitalized (if it isn't already)\n",
    "- uppercase sentence\n",
    "- lowercase sentence\n",
    "- capitalized all the words in the sentence\n",
    "- toggle-cased sentence\n",
    "\n",
    "For \"print MY sentence.\", it should output:\n",
    "```\n",
    "18\n",
    "Print my sentence.\n",
    "PRINT MY SENTENCE.\n",
    "print my sentence.\n",
    "Print My Sentence.\n",
    "PRINT my SENTENCE.\n",
    "```"
   ]
  },
  {
   "cell_type": "code",
   "execution_count": 20,
   "metadata": {},
   "outputs": [
    {
     "name": "stdout",
     "output_type": "stream",
     "text": [
      "18\n",
      "Print my sentence.\n",
      "PRINT MY SENTENCE.\n",
      "print my sentence.\n",
      "Print My Sentence.\n",
      "PRINT my SENTENCE.\n"
     ]
    }
   ],
   "source": [
    "sentence = input(\"Please enter a sentence:\")\n",
    "print(len(sentence))\n",
    "print(sentence.capitalize())\n",
    "print(sentence.upper())\n",
    "print(sentence.lower())\n",
    "print(sentence.title())\n",
    "print(sentence.swapcase())\n"
   ]
  },
  {
   "cell_type": "markdown",
   "metadata": {},
   "source": [
    "<br><div class=\"alert alert-info\"><b>Example 17</b></div>\n",
    "Say the output shoud be 80 characters wide.\n",
    "Print the sentence \"The five boxing wizards jump quickly\":\n",
    "* centered\n",
    "* right justified\n",
    "* left justified (meaning spaces are added on the right side)\n",
    "\n",
    "Use pipe (or \"|\") character on each start and end of the output."
   ]
  },
  {
   "cell_type": "code",
   "execution_count": 21,
   "metadata": {},
   "outputs": [
    {
     "name": "stdout",
     "output_type": "stream",
     "text": [
      "|                      The five boxing wizards jump quickly                      |\n",
      "|                                            The five boxing wizards jump quickly|\n",
      "|The five boxing wizards jump quickly                                            |\n"
     ]
    }
   ],
   "source": [
    "sentence = \"The five boxing wizards jump quickly\"\n",
    "str1 = sentence.center(80)\n",
    "str2 = sentence.rjust(80)\n",
    "str3 = sentence.ljust(80)\n",
    "print(\"|\" + str1 + \"|\")\n",
    "print(\"|\" + str2 + \"|\")\n",
    "print(\"|\" + str3 + \"|\")"
   ]
  },
  {
   "cell_type": "markdown",
   "metadata": {},
   "source": [
    "<br><div class=\"alert alert-info\"><b>Example 18</b></div>\n",
    "Write a program that takes a first and a last name, and outputs the greeting like this:\n",
    "\n",
    "`Hello John Smith, how are you doing today?`\n",
    "\n",
    "If user enters spaces at the end or start of the input, remove those spaces.\n",
    "Use the string formatting to output the greeting."
   ]
  },
  {
   "cell_type": "code",
   "execution_count": 24,
   "metadata": {},
   "outputs": [
    {
     "name": "stdout",
     "output_type": "stream",
     "text": [
      "Hello John Smith, how are you doing today?\n"
     ]
    }
   ],
   "source": [
    "fname = input(\"Enter your first name:\")\n",
    "lname = input(\"Enter your last name:\")\n",
    "fname = fname.strip()\n",
    "lname = lname.strip()\n",
    "print(f\"Hello {fname} {lname}, how are you doing today?\")"
   ]
  },
  {
   "cell_type": "markdown",
   "metadata": {},
   "source": [
    "> There are also lstrip() and rstrip() functions, try them!"
   ]
  },
  {
   "cell_type": "markdown",
   "metadata": {},
   "source": [
    "<br><div class=\"alert alert-info\"><b>Example 19</b></div>\n",
    "Store the sentence \"The five boxing wizards jump quickly\" into variable, hardcoded.\n",
    "\n",
    "Then do the following tasks:\n",
    "\n",
    "* split that sentence into words and print all the words\n",
    "* print first, second and third word\n",
    "* print first letter of the first word, second letter of the second word and and third letter of the third word"
   ]
  },
  {
   "cell_type": "code",
   "execution_count": 36,
   "metadata": {},
   "outputs": [
    {
     "name": "stdout",
     "output_type": "stream",
     "text": [
      "['The', 'five', 'boxing', 'wizards', 'jump', 'quickly']\n",
      "First word is:  The\n",
      "Second word is:  five\n",
      "Third word is:  boxing\n",
      "First letter of the first word is:  T\n",
      "First letter of the second word is:  f\n",
      "Third letter of the third word is:  b\n"
     ]
    }
   ],
   "source": [
    "sentence = \"The five boxing wizards jump quickly\"\n",
    "words = sentence.split()\n",
    "print(words)\n",
    "\n",
    "print(\"First word is: \", words[0])\n",
    "print(\"Second word is: \", words[1])\n",
    "print(\"Third word is: \", words[2])\n",
    "\n",
    "print(\"First letter of the first word is: \", words[0][0])\n",
    "print(\"First letter of the second word is: \", words[1][0])\n",
    "print(\"Third letter of the third word is: \", words[2][0])"
   ]
  },
  {
   "cell_type": "markdown",
   "metadata": {},
   "source": [
    "> If you pass the parameter to the `split()` function, it will split the string around the passed parameter (character or words).\n",
    ">\n",
    "> The following program...\n",
    "> ```\n",
    "> str1 = \"ZG-1234-AB\"\n",
    "> print(str1.split(\"-\"))\n",
    "> ```\n",
    "> ...will output: [\"ZG\", \"1234\", \"AB\"]\n"
   ]
  },
  {
   "cell_type": "markdown",
   "metadata": {},
   "source": [
    "## Exercises"
   ]
  },
  {
   "cell_type": "markdown",
   "metadata": {},
   "source": [
    "<br><div class=\"alert alert-info\"><b>Task 01</b></div>\n",
    "Write a program that prints three words: \"Hello\", \"World\", \"Python\", each on its own line, separated by a blank line."
   ]
  },
  {
   "cell_type": "code",
   "execution_count": 21,
   "metadata": {},
   "outputs": [
    {
     "name": "stdout",
     "output_type": "stream",
     "text": [
      "Hello\n",
      "\n",
      "World\n",
      "\n",
      "Python\n"
     ]
    }
   ],
   "source": [
    "print('Hello')\n",
    "print()\n",
    "print('World')\n",
    "print()\n",
    "print('Python')"
   ]
  },
  {
   "cell_type": "markdown",
   "metadata": {},
   "source": [
    "<br><div class=\"alert alert-info\"><b>Task 02</b></div>\n",
    "Store the value 52 in the variable named *number*. Print the variable on the screen."
   ]
  },
  {
   "cell_type": "code",
   "execution_count": 22,
   "metadata": {},
   "outputs": [
    {
     "name": "stdout",
     "output_type": "stream",
     "text": [
      "52\n"
     ]
    }
   ],
   "source": [
    "number = 52\n",
    "print(number)"
   ]
  },
  {
   "cell_type": "markdown",
   "metadata": {},
   "source": [
    "<br><div class=\"alert alert-info\"><b>Task 03</b></div>\n",
    "Write a program that stores the number 10 in one variable, the number 25 in another, and prints the sum, product, difference and quotient of these numbers. Format the printout so that each printout is on its own line, and both the operands and the operator are printed. \n",
    "\n",
    "For example, for the product it is necessary to print: \"10 * 25 = 250\"."
   ]
  },
  {
   "cell_type": "code",
   "execution_count": 23,
   "metadata": {},
   "outputs": [
    {
     "name": "stdout",
     "output_type": "stream",
     "text": [
      "10 + 25 = 35\n",
      "10 * 25 = 250\n",
      "10 - 25 = -15\n",
      "10 / 25 = 0.4\n"
     ]
    }
   ],
   "source": [
    "a = 10\n",
    "b = 25\n",
    "print(a, '+', b, '=', a + b)\n",
    "print(a, '*', b, '=', a * b)\n",
    "print(a, '-', b, '=', a - b)\n",
    "print(a, '/', b, '=', a / b)"
   ]
  },
  {
   "cell_type": "markdown",
   "metadata": {},
   "source": [
    "<br><div class=\"alert alert-info\"><b>Task 04</b></div>\n",
    "Write a program that prints the left and right digits of a given two-digit number. Each digit should be printed on a separate line. Let the number be assigned directly in the program (*hardcoded*)!"
   ]
  },
  {
   "cell_type": "code",
   "execution_count": 24,
   "metadata": {},
   "outputs": [
    {
     "name": "stdout",
     "output_type": "stream",
     "text": [
      "Left digit 4\n",
      "Right digit 2\n"
     ]
    }
   ],
   "source": [
    "number = 42\n",
    "print('Left digit', number // 10)\n",
    "print('Right digit', number % 10)"
   ]
  },
  {
   "cell_type": "markdown",
   "metadata": {},
   "source": [
    "<br><div class=\"alert alert-info\"><b>Task 05</b></div>\n",
    "Declare a variable, and load an integer from the user into it. Print the variable to the screen."
   ]
  },
  {
   "cell_type": "code",
   "execution_count": 25,
   "metadata": {},
   "outputs": [
    {
     "name": "stdout",
     "output_type": "stream",
     "text": [
      "25\n"
     ]
    }
   ],
   "source": [
    "number = int(input('Enter an integer: '))\n",
    "print(number)"
   ]
  },
  {
   "cell_type": "markdown",
   "metadata": {},
   "source": [
    "<br><div class=\"alert alert-info\"><b>Task 06</b></div>\n",
    "Write a program that loads a person's height in centimeters and that person's name, and prints a message of the form (for entered data 176 and Pete) <br>\n",
    "Person Pete is 176 centimeters tall."
   ]
  },
  {
   "cell_type": "code",
   "execution_count": 29,
   "metadata": {},
   "outputs": [
    {
     "name": "stdout",
     "output_type": "stream",
     "text": [
      "Person Pete is 176 centimeters tall\n"
     ]
    }
   ],
   "source": [
    "height = int(input('Enter the person\\'s height in centimeters: '))\n",
    "name = input('Enter the person\\'s name: ')\n",
    "print('Person', name, 'is', height, 'centimeters tall')"
   ]
  },
  {
   "cell_type": "markdown",
   "metadata": {},
   "source": [
    "<br><div class=\"alert alert-info\"><b>Task 07</b></div>\n",
    "Write a program that loads an integer from the keyboard and prints its product with 16 and the sum with 42."
   ]
  },
  {
   "cell_type": "code",
   "execution_count": 30,
   "metadata": {},
   "outputs": [
    {
     "name": "stdout",
     "output_type": "stream",
     "text": [
      "The product with 16 is 160\n",
      "Sum with 42 is 52\n"
     ]
    }
   ],
   "source": [
    "number = int(input('Enter an integer: '))\n",
    "print('The product with 16 is', number * 16)\n",
    "print('Sum with 42 is', number + 42)"
   ]
  },
  {
   "cell_type": "markdown",
   "metadata": {},
   "source": [
    "<br><div class=\"alert alert-info\"><b>Task 08</b></div>\n",
    "Write a program that loads the length of the sides of a rectangle and prints its area and perimeter."
   ]
  },
  {
   "cell_type": "code",
   "execution_count": 33,
   "metadata": {},
   "outputs": [
    {
     "name": "stdout",
     "output_type": "stream",
     "text": [
      "Area 15.0\n",
      "Perimeter 16.0\n"
     ]
    }
   ],
   "source": [
    "a = float(input('Enter the width of the rectangle: '))\n",
    "b = float(input('Enter the height of the rectangle: '))\n",
    "print('Area', a * b)\n",
    "print('Perimeter', 2 * a + 2 * b)"
   ]
  },
  {
   "cell_type": "markdown",
   "metadata": {},
   "source": [
    "<br><div class=\"alert alert-info\"><b>Task 09</b></div>\n",
    "Write a program that loads the radius of a circle and prints its area and perimeter (P=r<sup>2</sup>ℿ, O=2rℿ)."
   ]
  },
  {
   "cell_type": "code",
   "execution_count": 34,
   "metadata": {},
   "outputs": [
    {
     "name": "stdout",
     "output_type": "stream",
     "text": [
      "Area is: 314.0\n",
      "Range is: 62.800000000000004\n"
     ]
    }
   ],
   "source": [
    "pi = 3.14\n",
    "r = float(input('Enter the radius of the circle: '))\n",
    "print('Area is:', r ** 2 * pi)\n",
    "print('Range is:', 2 * r * pi)"
   ]
  },
  {
   "cell_type": "markdown",
   "metadata": {},
   "source": [
    "<br><div class=\"alert alert-info\"><b>Task 10</b></div>\n",
    "Write a program that loads the distance in kilometers and prints the distance in miles (1 mile is approximately 1.6km)"
   ]
  },
  {
   "cell_type": "code",
   "execution_count": 37,
   "metadata": {},
   "outputs": [
    {
     "name": "stdout",
     "output_type": "stream",
     "text": [
      "7.0 kilometers is 4.375 miles\n"
     ]
    }
   ],
   "source": [
    "km = float(input('Enter the distance in kilometers: '))\n",
    "print(km, 'kilometers is', km / 1.6, 'miles')"
   ]
  },
  {
   "cell_type": "markdown",
   "metadata": {},
   "source": [
    "<br><div class=\"alert alert-info\"><b>Task 11</b></div>\n",
    "Write a program that loads the heights of 3 students and prints the average height"
   ]
  },
  {
   "cell_type": "code",
   "execution_count": 38,
   "metadata": {},
   "outputs": [
    {
     "name": "stdout",
     "output_type": "stream",
     "text": [
      "The average height of three students is 181.33333333333334\n"
     ]
    }
   ],
   "source": [
    "height1 = float(input('Enter student 1 height: '))\n",
    "height2 = float(input('Enter student 2 height: '))\n",
    "height3 = float(input('Enter student 3 height: '))\n",
    "print('The average height of three students is', (height1 + height2 + height3) / 3)"
   ]
  },
  {
   "cell_type": "markdown",
   "metadata": {},
   "source": [
    "<br><div class=\"alert alert-info\"><b>Task 12</b></div>\n",
    "An athlete throws the javelin and throws the following distances in 5 attempts: 92 m, 97 m, 95.4 m, 90.1 m, 96 m. Calculate the average distance."
   ]
  },
  {
   "cell_type": "code",
   "execution_count": 39,
   "metadata": {},
   "outputs": [
    {
     "name": "stdout",
     "output_type": "stream",
     "text": [
      "Average distance thrown is: 94.1\n"
     ]
    }
   ],
   "source": [
    "d1 = 92\n",
    "d2 = 97\n",
    "d3 = 95.4\n",
    "d4 = 90.1\n",
    "d5 = 96\n",
    "average_distance = (d1 + d2 + d3 + d4 + d5) / 5\n",
    "print('Average distance thrown is:', average_distance)"
   ]
  },
  {
   "cell_type": "markdown",
   "metadata": {},
   "source": [
    "<br><div class=\"alert alert-info\"><b>Task 13</b></div>\n",
    "Read a character from the user and draw something like this using that character (assuming that user entered *x*):\n",
    "```\n",
    "|   x     |\n",
    "|  xxx    |\n",
    "| xxxxx   |\n",
    "```"
   ]
  },
  {
   "cell_type": "code",
   "execution_count": 26,
   "metadata": {},
   "outputs": [
    {
     "name": "stdout",
     "output_type": "stream",
     "text": [
      "|   x     |\n",
      "|  xxx    |\n",
      "| xxxxx   |\n"
     ]
    }
   ],
   "source": [
    "character = input('Enter a character: ')\n",
    "print(\"|\" + \" \" * 3 + \"x\" * 1 + \" \" * 5 + \"|\")\n",
    "print(\"|\" + \" \" * 2 + \"x\" * 3 + \" \" * 4 + \"|\")\n",
    "print(\"|\" + \" \" * 1 + \"x\" * 5 + \" \" * 3 + \"|\")"
   ]
  },
  {
   "cell_type": "markdown",
   "metadata": {},
   "source": [
    "<br><div class=\"alert alert-info\"><b>Task 14</b></div>\n",
    "Write a program that takes a word and outputs:\n",
    "* the first half in uppercase\n",
    "* the second half in lowercase\n",
    "\n",
    "E.g. for \"sOmElOnGwOrD\" it should output \"SOMELOngword\""
   ]
  },
  {
   "cell_type": "code",
   "execution_count": 30,
   "metadata": {},
   "outputs": [
    {
     "name": "stdout",
     "output_type": "stream",
     "text": [
      "SOMELOngword\n"
     ]
    }
   ],
   "source": [
    "word = input('Enter a word: ')\n",
    "word_half_index = int(len(word) / 2)\n",
    "first_half = word[0:word_half_index]\n",
    "second_half = word[word_half_index:]\n",
    "print(first_half.upper() + second_half.lower())"
   ]
  },
  {
   "cell_type": "markdown",
   "metadata": {},
   "source": [
    "<br><div class=\"alert alert-info\"><b>Task 15</b></div>\n",
    "Write a program that takes a template and replaces all occurrences of `%ITEM%` and `%PRICE%` with appropriate inputs from the user.\n",
    "For replacing a word in a string use `replace()` function, like this: `word.replace(\"original\", \"replacement\")`.\n",
    "\n",
    "Template is the following string:\n",
    "`template = \"Item name: %ITEM%\\nPrice: %PRICE%\\n\\nPrice for %ITEM% is $%PRICE%\"`"
   ]
  },
  {
   "cell_type": "code",
   "execution_count": 39,
   "metadata": {},
   "outputs": [
    {
     "name": "stdout",
     "output_type": "stream",
     "text": [
      "Item name: shoes\n",
      "Price: 89.99\n",
      "\n",
      "Price for shoes is $89.99\n"
     ]
    }
   ],
   "source": [
    "item = input('Enter item name: ')\n",
    "price = input('Enter price: ')\n",
    "template = \"Item name: %ITEM%\\nPrice: %PRICE%\\n\\nPrice for %ITEM% is $%PRICE%\"\n",
    "template = template.replace(\"%ITEM%\", item)\n",
    "template = template.replace(\"%PRICE%\", price)\n",
    "print(template)"
   ]
  }
 ],
 "metadata": {
  "kernelspec": {
   "display_name": "Python 3.10.5 64-bit",
   "language": "python",
   "name": "python3"
  },
  "language_info": {
   "codemirror_mode": {
    "name": "ipython",
    "version": 3
   },
   "file_extension": ".py",
   "mimetype": "text/x-python",
   "name": "python",
   "nbconvert_exporter": "python",
   "pygments_lexer": "ipython3",
   "version": "3.10.5"
  },
  "vscode": {
   "interpreter": {
    "hash": "3553903dba64754d2bfb0d59acd2dbff5bc8fcd3f403a6584ff751f2f4eee55f"
   }
  }
 },
 "nbformat": 4,
 "nbformat_minor": 2
}
