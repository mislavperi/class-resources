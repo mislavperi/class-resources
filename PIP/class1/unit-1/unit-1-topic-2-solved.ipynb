{
 "cells": [
  {
   "cell_type": "markdown",
   "metadata": {},
   "source": [
    "# 1. Introduction to Python\n",
    "## 1.2. Names and name memory model, objects"
   ]
  },
  {
   "cell_type": "markdown",
   "metadata": {},
   "source": [
    "<br><div class=\"alert alert-info\"><b>Example 1</b></div>\n",
    "Write a Python program that **assigns** the integer value 7 to the variable named a, and then prints the value currently associated with a."
   ]
  },
  {
   "cell_type": "code",
   "execution_count": 1,
   "metadata": {},
   "outputs": [
    {
     "name": "stdout",
     "output_type": "stream",
     "text": [
      "7\n"
     ]
    }
   ],
   "source": [
    "a = 7\n",
    "print(a)"
   ]
  },
  {
   "cell_type": "markdown",
   "metadata": {},
   "source": [
    "#### Names stick to objects - \"sticky note\"\n",
    "![deviation](Images/object-box.jpg)\n",
    "\n",
    "Assignment does not copy a value; it just attaches a name to the object that contains the data. The name is a reference to a thing rather than the thing itself."
   ]
  },
  {
   "cell_type": "markdown",
   "metadata": {},
   "source": [
    "<br><div class=\"alert alert-info\"><b>Example 2</b></div>\n",
    "1. As before, assign the value 7 to the name a. This creates an object box containing\n",
    "the integer value 7.\n",
    "2. Print the value of a.\n",
    "3. Assign a to b, making b also stick to the object box containing 7.\n",
    "4. Print the value of b."
   ]
  },
  {
   "cell_type": "code",
   "execution_count": 2,
   "metadata": {},
   "outputs": [
    {
     "name": "stdout",
     "output_type": "stream",
     "text": [
      "7\n",
      "7\n"
     ]
    }
   ],
   "source": [
    "a = 7\n",
    "print(a)\n",
    "\n",
    "b = a\n",
    "print(b)"
   ]
  },
  {
   "cell_type": "markdown",
   "metadata": {},
   "source": [
    "<br><div class=\"alert alert-info\"><b>Example 3</b></div>\n",
    "In Python, if you want to know the type of anything (a variable or a literal value), use `type( thing )`. \n",
    "\n",
    "Let’s try it with different literal values (`58`, `99.9`, `\"abc\"`) and different variables like `a` and `b`."
   ]
  },
  {
   "cell_type": "code",
   "execution_count": 3,
   "metadata": {},
   "outputs": [
    {
     "name": "stdout",
     "output_type": "stream",
     "text": [
      "<class 'int'>\n",
      "<class 'int'>\n",
      "<class 'int'>\n",
      "<class 'float'>\n",
      "<class 'str'>\n"
     ]
    }
   ],
   "source": [
    "print(type(a))\n",
    "print(type(b))\n",
    "print(type(58))\n",
    "print(type(99.9))\n",
    "print(type('abc'))"
   ]
  },
  {
   "cell_type": "markdown",
   "metadata": {},
   "source": [
    "#### A class is the definition of an object. In Python, \"class\" and \"type\" mean pretty much the same thing."
   ]
  },
  {
   "cell_type": "markdown",
   "metadata": {},
   "source": [
    "<br><div class=\"alert alert-info\"><b>Example 4</b></div>\n",
    "Variable names can only contain these characters:\n",
    "* Lowercase letters (a through z)\n",
    "* Uppercase letters (A through Z)\n",
    "* Digits (0 through 9)\n",
    "* Underscore (_)\n",
    "\n",
    "Names cannot begin with a digit. \n",
    "Also, Python treats names that begin with an underscore in special ways.\n",
    "\n",
    "Try to create several variables that have values assigned, and do follow these rules.\n",
    "\n",
    "Examples:\n",
    "* `x`,\n",
    "* `abc`,\n",
    "* `Something`,\n",
    "* `aBC`,\n",
    "* `y1`,\n",
    "* `x_2`,\n",
    "* `_a`"
   ]
  },
  {
   "cell_type": "code",
   "execution_count": 4,
   "metadata": {},
   "outputs": [],
   "source": [
    "x = 1\n",
    "abc = 123\n",
    "Something = 234\n",
    "aBC = 345\n",
    "y1 = 456\n",
    "x_2 = 567\n",
    "_a = 678"
   ]
  },
  {
   "cell_type": "markdown",
   "metadata": {},
   "source": [
    "> Now try to create several variablesthat don't follow these rules, like `123something`."
   ]
  },
  {
   "cell_type": "code",
   "execution_count": 5,
   "metadata": {},
   "outputs": [
    {
     "ename": "SyntaxError",
     "evalue": "invalid decimal literal (780800885.py, line 1)",
     "output_type": "error",
     "traceback": [
      "\u001b[1;36m  Input \u001b[1;32mIn [5]\u001b[1;36m\u001b[0m\n\u001b[1;33m    123something = 123\u001b[0m\n\u001b[1;37m      ^\u001b[0m\n\u001b[1;31mSyntaxError\u001b[0m\u001b[1;31m:\u001b[0m invalid decimal literal\n"
     ]
    }
   ],
   "source": [
    "123something = 123"
   ]
  }
 ],
 "metadata": {
  "kernelspec": {
   "display_name": "Python 3.10.5 64-bit",
   "language": "python",
   "name": "python3"
  },
  "language_info": {
   "codemirror_mode": {
    "name": "ipython",
    "version": 3
   },
   "file_extension": ".py",
   "mimetype": "text/x-python",
   "name": "python",
   "nbconvert_exporter": "python",
   "pygments_lexer": "ipython3",
   "version": "3.10.5"
  },
  "orig_nbformat": 4,
  "vscode": {
   "interpreter": {
    "hash": "3553903dba64754d2bfb0d59acd2dbff5bc8fcd3f403a6584ff751f2f4eee55f"
   }
  }
 },
 "nbformat": 4,
 "nbformat_minor": 2
}
