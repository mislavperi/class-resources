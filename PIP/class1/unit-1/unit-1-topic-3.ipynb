{
 "cells": [
  {
   "cell_type": "markdown",
   "metadata": {},
   "source": [
    "# 1. Introduction to Python\n",
    "## 1.2. Names and name memory model, objects"
   ]
  },
  {
   "cell_type": "markdown",
   "metadata": {},
   "source": [
    "There are 5 simple (built-in, primitive) data types in Python:\n",
    "- **bool** – stores True or False\n",
    "- **int** – stores an integer\n",
    "- **float** – stores a decimal number\n",
    "- **str** – stores zero or more characters (text or string)\n",
    "- **complex** – stores a complex number (x + yj)\n"
   ]
  },
  {
   "cell_type": "markdown",
   "metadata": {},
   "source": [
    "## Variables"
   ]
  },
  {
   "attachments": {},
   "cell_type": "markdown",
   "metadata": {},
   "source": [
    "Variable is a named part of memory large enough to hold data of the requested type.\n",
    "\n",
    "The variable is defined by:\n",
    "- Name\n",
    "    - The name of something (including a variable) is also called an identifier\n",
    "- Data type\n",
    "- Starting address in memory\n",
    "\n",
    "### Creating variables\n",
    "\n",
    "By creating a variable, we take a part of the working memory:\n",
    "```python\n",
    "variable_name = value\n",
    "```\n",
    "\n",
    "Name rules:\n",
    "- The name may contain the following characters:\n",
    "    - Lowercase and uppercase letters of the English alphabet a...z and A...Z\n",
    "    - Digits 0...9\n",
    "    - Underscore (English underscore) _\n",
    "- The name must not start with a digit\n",
    "- The name must not be a Python reserved word\n",
    "- Names are case sensitive\n",
    "    - Number, number, nUmBeR, NUMBER, ... are not the same names\n",
    "\n",
    "### Variable type\n",
    "\n",
    "- Every Python variable is of exactly one type\n",
    "- The variable type is indirectly determined when the variable is created\n",
    "- The type can be changed later (not recommended!)\n",
    "\n",
    "The type can be obtained with the function **type()**\n",
    "\n",
    "### Literals\n",
    "\n",
    "Literals are literal values ​​that we assign to variables. They are written to the right of the equal sign.\n",
    "\n",
    "The following rules apply:\n",
    "- We enter **bool** as True or False\n",
    "- **int** is entered as a positive or negative number without a decimal point\n",
    "- **float** is entered as a number with a decimal point\n",
    "- **complex** is entered as a complex number e.g. 6 + 5j (not 6 + 5i)\n",
    "- **string** is entered as characters inside single or double quotes\n",
    "\n",
    "### Additional variable options\n",
    "\n",
    "We can define a variable using an expression instead of a literal:\n",
    "```python\n",
    "    area = (10.0 * 10.0) / 3.14\n",
    "```\n",
    "When defining variables, we can also use duplicate assignment:\n",
    "```python\n",
    "    a = b = c = 17\n",
    "```\n",
    "In the same expression we can define multiple variables with multiple different values:\n",
    "```python\n",
    "    student, grade, average = \"Ana Anić\", 5, 4.75\n",
    "```"
   ]
  },
  {
   "cell_type": "markdown",
   "metadata": {},
   "source": [
    "## Printing"
   ]
  },
  {
   "cell_type": "markdown",
   "metadata": {},
   "source": [
    "To print, we use the function:\n",
    "```python\n",
    "     print()\n",
    "```\n",
    "\n",
    "As a parameter we can send:\n",
    "- **Nothing** => an empty line is printed\n",
    "- **Literal** => exactly that literal is printed\n",
    "- **Variable** => its value is printed\n",
    "- **Multiple variables separated by commas** => all values separated by spaces are printed\n",
    "\n",
    "Special characters we can print:\n",
    "- **\\n** = also indicates transition to a new line (enter)\n",
    "- **\\t** = indicates tab"
   ]
  },
  {
   "cell_type": "markdown",
   "metadata": {},
   "source": [
    "<br><div class=\"alert alert-info\"><b>Example 01</b></div>\n",
    "Write a program that prints three names: \"Peter\", \"Mark\" and \"Joanna\" - each name on its own line with a blank line in between."
   ]
  },
  {
   "cell_type": "code",
   "execution_count": null,
   "metadata": {},
   "outputs": [],
   "source": []
  },
  {
   "cell_type": "markdown",
   "metadata": {},
   "source": [
    "<br><div class=\"alert alert-info\"><b>Example 02</b></div>\n",
    "Declare 5 variables of different types and assign values to them. Print the type and the value of each variable."
   ]
  },
  {
   "cell_type": "code",
   "execution_count": null,
   "metadata": {},
   "outputs": [],
   "source": []
  },
  {
   "cell_type": "markdown",
   "metadata": {},
   "source": [
    "<br><div class=\"alert alert-info\"><b>Example 03</b></div>\n",
    "Declare two variables and assign them a numeric value. Print the product of those two numbers."
   ]
  },
  {
   "cell_type": "code",
   "execution_count": null,
   "metadata": {},
   "outputs": [],
   "source": []
  },
  {
   "cell_type": "markdown",
   "metadata": {},
   "source": [
    "### Loading a value from the user"
   ]
  },
  {
   "cell_type": "markdown",
   "metadata": {},
   "source": [
    "Loading is done with the function **input()**:\n",
    "```python\n",
    "     variable = input(\"text that the user sees: \")\n",
    "```"
   ]
  },
  {
   "cell_type": "markdown",
   "metadata": {},
   "source": [
    "<br><div class=\"alert alert-info\"><b>Example 04</b></div>\n",
    "Write a program that loads the name from the user and prints the loaded value."
   ]
  },
  {
   "cell_type": "code",
   "execution_count": null,
   "metadata": {},
   "outputs": [],
   "source": []
  },
  {
   "cell_type": "markdown",
   "metadata": {},
   "source": [
    "### Numbers\n",
    "<div class=\"alert alert-info\"><b>Example 05</b></div>\n",
    "Write a program that loads two numbers from the user and prints their sum."
   ]
  },
  {
   "cell_type": "code",
   "execution_count": null,
   "metadata": {},
   "outputs": [],
   "source": []
  },
  {
   "attachments": {},
   "cell_type": "markdown",
   "metadata": {},
   "source": [
    "**Type of the loaded variable is always string!!**\n",
    "\n",
    "We can convert it to the desired type using the functions:\n",
    "- **int()** converts to int\n",
    "- **float()** converts to a float\n",
    "- **complex()** converts to complex\n",
    "- **bool()** converts to bool\n",
    "- **str()** converts to str (really? :D)"
   ]
  },
  {
   "cell_type": "markdown",
   "metadata": {},
   "source": [
    "Let's try to convert string \"-5\" to each of these types."
   ]
  },
  {
   "cell_type": "code",
   "execution_count": null,
   "metadata": {},
   "outputs": [],
   "source": []
  },
  {
   "cell_type": "markdown",
   "metadata": {},
   "source": [
    "<br><div class=\"alert alert-info\"><b>Example 06</b></div>\n",
    "Correct the previous example so that the program adds the two loaded numbers."
   ]
  },
  {
   "cell_type": "code",
   "execution_count": null,
   "metadata": {},
   "outputs": [],
   "source": []
  },
  {
   "cell_type": "markdown",
   "metadata": {},
   "source": [
    "### Mathematical operations\n",
    "Python has built-in support for integers (whole numbers such as 5 and 1,000,000,000) and floating point numbers (such as 3.1416, 14.99, and 1.87e4).\n",
    "\n",
    "You can calculate combinations of numbers with the simple math operators:\n",
    "* `+` addition (like `5 + 8`)\n",
    "* `-` subtraction (like `90 - 10`)\n",
    "* `*` multiplication (like `4 * 7`)\n",
    "* `/` floating point division (like `7 / 2`, which equals `3.5`)\n",
    "* `//` integer (truncating) division (like `7 // 2`, which equals `3`)\n",
    "* `%` modulus (remainder) (like `7 % 3`, which equals `1`)\n",
    "* `**` exponentiation (like `3 ** 4`, which equals `81`)"
   ]
  },
  {
   "cell_type": "code",
   "execution_count": null,
   "metadata": {},
   "outputs": [],
   "source": []
  },
  {
   "cell_type": "markdown",
   "metadata": {},
   "source": [
    "Python doesn't know how to divide with 0."
   ]
  },
  {
   "cell_type": "code",
   "execution_count": null,
   "metadata": {},
   "outputs": [],
   "source": []
  },
  {
   "cell_type": "markdown",
   "metadata": {},
   "source": [
    "<br><div class=\"alert alert-info\"><b>Example 07</b></div>\n",
    "Change the previous example so that the program adds the two loaded numbers and multiplies the sum with 5."
   ]
  },
  {
   "cell_type": "code",
   "execution_count": null,
   "metadata": {},
   "outputs": [],
   "source": []
  },
  {
   "cell_type": "markdown",
   "metadata": {},
   "source": [
    "**Precedence of operations does matter!**\n",
    "\n",
    "These two operations are different:\n",
    "  - result = a2+b2*5\n",
    "  - result = (a2+b2)*5\n",
    "\n",
    "Multiplication has a higher precedence than addition, which means that it's calculated before addition.\n",
    "\n",
    "It's the same as in a common mathematical expression. You have to use brackets."
   ]
  },
  {
   "cell_type": "code",
   "execution_count": null,
   "metadata": {},
   "outputs": [],
   "source": []
  },
  {
   "cell_type": "markdown",
   "metadata": {},
   "source": [
    "<br><div class=\"alert alert-info\"><b>Example 08</b></div>\n",
    "Load first name, last name and the date of birth of a user. Print the loaded values (each on its own line)."
   ]
  },
  {
   "cell_type": "code",
   "execution_count": null,
   "metadata": {},
   "outputs": [],
   "source": []
  },
  {
   "cell_type": "markdown",
   "metadata": {},
   "source": [
    "<br><div class=\"alert alert-info\"><b>Example 09</b></div>\n",
    "Write a program that converts engine power from kW to horsepower (1 kw = 1.341 Ks). Load the motor power in kW from the user."
   ]
  },
  {
   "cell_type": "code",
   "execution_count": null,
   "metadata": {},
   "outputs": [],
   "source": []
  },
  {
   "cell_type": "markdown",
   "metadata": {},
   "source": [
    "<br><div class=\"alert alert-info\"><b>Example 10</b></div>\n",
    "The student received grades 2, 4, 4, 5, 3, 5. Calculate the mean score and standard deviation.\n",
    "\n",
    "#### Standard deviation\n",
    "![deviation](Images/deviation.JPG)\n",
    "\n",
    "#### Exponentiation and the square root\n",
    "\n",
    "You need to load the **math** library:\n",
    "```python\n",
    "     import math as m\n",
    "```\n",
    "Exponentiation:\n",
    "```python\n",
    "     m.pow(base, exponent)\n",
    "```\n",
    "Square root:\n",
    "```python\n",
    "     m.sqrt(value)\n",
    "```"
   ]
  },
  {
   "cell_type": "code",
   "execution_count": null,
   "metadata": {},
   "outputs": [],
   "source": []
  },
  {
   "cell_type": "markdown",
   "metadata": {},
   "source": [
    "<br><div class=\"alert alert-info\"><b>Example 11</b></div>\n",
    "Write a program that takes three inputs and outputs in the following manner: first output is not indented, second output is indented with 2 spaces and third output is indented with 4 spaces."
   ]
  },
  {
   "cell_type": "code",
   "execution_count": null,
   "metadata": {},
   "outputs": [],
   "source": [
    "\n"
   ]
  },
  {
   "cell_type": "markdown",
   "metadata": {},
   "source": [
    "<br><div class=\"alert alert-info\"><b>Example 12</b></div>\n",
    "Write a program that takes an input and writes that input 10 times in a row, with space between each print and at the end.\n",
    "For input \"John\", output should be \"John John John John John John John John John John \"."
   ]
  },
  {
   "cell_type": "code",
   "execution_count": null,
   "metadata": {},
   "outputs": [],
   "source": []
  },
  {
   "cell_type": "markdown",
   "metadata": {},
   "source": [
    "<br><div class=\"alert alert-info\"><b>Example 13</b></div>\n",
    "Write a program that takes a first and a last name. Then output a greeting message with the acronym.\n",
    "For John Smith, the message should be \"Hi JS!\""
   ]
  },
  {
   "cell_type": "code",
   "execution_count": null,
   "metadata": {},
   "outputs": [],
   "source": []
  },
  {
   "cell_type": "markdown",
   "metadata": {},
   "source": [
    "<br><div class=\"alert alert-info\"><b>Example 14</b></div>\n",
    "Write a program that takes two numbers and uses them as start and end position.\n",
    "Then it outputs all the letters of an alphabet from start to end position.\n",
    "\n",
    "> Pay attention: positions of letters in Python string are called indices. \n",
    ">\n",
    "> Indices start at **0**, not at 1.\n",
    "\n",
    "For 4 and 9, the output should be **efghi**.\n"
   ]
  },
  {
   "cell_type": "code",
   "execution_count": null,
   "metadata": {},
   "outputs": [],
   "source": []
  },
  {
   "cell_type": "markdown",
   "metadata": {},
   "source": [
    "<br><div class=\"alert alert-info\"><b>Example 15</b></div>\n",
    "Correct the last program in order to take into account a position that would be easier to understand by a human. Meaning that positioning should start from 1.\n",
    "\n",
    "For 4 and 9, the output should be **defgh**.\n"
   ]
  },
  {
   "cell_type": "code",
   "execution_count": null,
   "metadata": {},
   "outputs": [],
   "source": []
  },
  {
   "cell_type": "markdown",
   "metadata": {},
   "source": [
    "> If you omit the second number, it means until the end of the string. E.g. `alphabet[10:]` would mean `\"klmnopqrstuvwxyz\"`"
   ]
  },
  {
   "cell_type": "markdown",
   "metadata": {},
   "source": [
    "<br><div class=\"alert alert-info\"><b>Example 16</b></div>\n",
    "Write the program that takes a sentence and outputs:\n",
    "- length of the sentence\n",
    "- sentence with first word capitalized (if it isn't already)\n",
    "- uppercase sentence\n",
    "- lowercase sentence\n",
    "- capitalized all the words in the sentence\n",
    "- toggle-cased sentence\n",
    "\n",
    "For \"print MY sentence.\", it should output:\n",
    "```\n",
    "18\n",
    "Print my sentence.\n",
    "PRINT MY SENTENCE.\n",
    "print my sentence.\n",
    "Print My Sentence.\n",
    "PRINT my SENTENCE.\n",
    "```"
   ]
  },
  {
   "cell_type": "code",
   "execution_count": null,
   "metadata": {},
   "outputs": [],
   "source": []
  },
  {
   "cell_type": "markdown",
   "metadata": {},
   "source": [
    "<br><div class=\"alert alert-info\"><b>Example 17</b></div>\n",
    "Say the output shoud be 80 characters wide.\n",
    "Print the sentence \"The five boxing wizards jump quickly\":\n",
    "* centered\n",
    "* right justified\n",
    "* left justified (meaning spaces are added on the right side)\n",
    "\n",
    "Use pipe (or \"|\") character on each start and end of the output."
   ]
  },
  {
   "cell_type": "code",
   "execution_count": null,
   "metadata": {},
   "outputs": [],
   "source": []
  },
  {
   "cell_type": "markdown",
   "metadata": {},
   "source": [
    "<br><div class=\"alert alert-info\"><b>Example 18</b></div>\n",
    "Write a program that takes a first and a last name, and outputs the greeting like this:\n",
    "\n",
    "`Hello John Smith, how are you doing today?`\n",
    "\n",
    "If user enters spaces at the end or start of the input, remove those spaces.\n",
    "Use the string formatting to output the greeting."
   ]
  },
  {
   "cell_type": "code",
   "execution_count": null,
   "metadata": {},
   "outputs": [],
   "source": []
  },
  {
   "cell_type": "markdown",
   "metadata": {},
   "source": [
    "> There are also lstrip() and rstrip() functions, try them!"
   ]
  },
  {
   "cell_type": "markdown",
   "metadata": {},
   "source": [
    "<br><div class=\"alert alert-info\"><b>Example 19</b></div>\n",
    "Store the sentence \"The five boxing wizards jump quickly\" into variable, hardcoded.\n",
    "\n",
    "Then do the following tasks:\n",
    "\n",
    "* split that sentence into words and print all the words\n",
    "* print first, second and third word\n",
    "* print first letter of the first word, second letter of the second word and and third letter of the third word"
   ]
  },
  {
   "cell_type": "code",
   "execution_count": null,
   "metadata": {},
   "outputs": [],
   "source": []
  },
  {
   "cell_type": "markdown",
   "metadata": {},
   "source": [
    "> If you pass the parameter to the `split()` function, it will split the string around the passed parameter (character or words).\n",
    ">\n",
    "> The following program...\n",
    "> ```\n",
    "> str1 = \"ZG-1234-AB\"\n",
    "> print(str1.split(\"-\"))\n",
    "> ```\n",
    "> ...will output: [\"ZG\", \"1234\", \"AB\"]\n"
   ]
  },
  {
   "cell_type": "markdown",
   "metadata": {},
   "source": [
    "## Exercises"
   ]
  },
  {
   "cell_type": "markdown",
   "metadata": {},
   "source": [
    "<br><div class=\"alert alert-info\"><b>Task 01</b></div>\n",
    "Write a program that prints three words: \"Hello\", \"World\", \"Python\", each on its own line, separated by a blank line."
   ]
  },
  {
   "cell_type": "code",
   "execution_count": null,
   "metadata": {},
   "outputs": [],
   "source": []
  },
  {
   "cell_type": "markdown",
   "metadata": {},
   "source": [
    "<br><div class=\"alert alert-info\"><b>Task 02</b></div>\n",
    "Store the value 52 in the variable named *number*. Print the variable on the screen."
   ]
  },
  {
   "cell_type": "code",
   "execution_count": null,
   "metadata": {},
   "outputs": [],
   "source": []
  },
  {
   "cell_type": "markdown",
   "metadata": {},
   "source": [
    "<br><div class=\"alert alert-info\"><b>Task 03</b></div>\n",
    "Write a program that stores the number 10 in one variable, the number 25 in another, and prints the sum, product, difference and quotient of these numbers. Format the printout so that each printout is on its own line, and both the operands and the operator are printed. \n",
    "\n",
    "For example, for the product it is necessary to print: \"10 * 25 = 250\"."
   ]
  },
  {
   "cell_type": "code",
   "execution_count": null,
   "metadata": {},
   "outputs": [],
   "source": []
  },
  {
   "cell_type": "markdown",
   "metadata": {},
   "source": [
    "<br><div class=\"alert alert-info\"><b>Task 04</b></div>\n",
    "Write a program that prints the left and right digits of a given two-digit number. Each digit should be printed on a separate line. Let the number be assigned directly in the program (*hardcoded*)!"
   ]
  },
  {
   "cell_type": "code",
   "execution_count": null,
   "metadata": {},
   "outputs": [],
   "source": []
  },
  {
   "cell_type": "markdown",
   "metadata": {},
   "source": [
    "<br><div class=\"alert alert-info\"><b>Task 05</b></div>\n",
    "Declare a variable, and load an integer from the user into it. Print the variable to the screen."
   ]
  },
  {
   "cell_type": "code",
   "execution_count": null,
   "metadata": {},
   "outputs": [],
   "source": []
  },
  {
   "cell_type": "markdown",
   "metadata": {},
   "source": [
    "<br><div class=\"alert alert-info\"><b>Task 06</b></div>\n",
    "Write a program that loads a person's height in centimeters and that person's name, and prints a message of the form (for entered data 176 and Pete) <br>\n",
    "Person Pete is 176 centimeters tall."
   ]
  },
  {
   "cell_type": "code",
   "execution_count": null,
   "metadata": {},
   "outputs": [],
   "source": []
  },
  {
   "cell_type": "markdown",
   "metadata": {},
   "source": [
    "<br><div class=\"alert alert-info\"><b>Task 07</b></div>\n",
    "Write a program that loads an integer from the keyboard and prints its product with 16 and the sum with 42."
   ]
  },
  {
   "cell_type": "code",
   "execution_count": null,
   "metadata": {},
   "outputs": [],
   "source": []
  },
  {
   "cell_type": "markdown",
   "metadata": {},
   "source": [
    "<br><div class=\"alert alert-info\"><b>Task 08</b></div>\n",
    "Write a program that loads the length of the sides of a rectangle and prints its area and perimeter."
   ]
  },
  {
   "cell_type": "code",
   "execution_count": null,
   "metadata": {},
   "outputs": [],
   "source": []
  },
  {
   "cell_type": "markdown",
   "metadata": {},
   "source": [
    "<br><div class=\"alert alert-info\"><b>Task 09</b></div>\n",
    "Write a program that loads the radius of a circle and prints its area and perimeter (P=r<sup>2</sup>ℿ, O=2rℿ)."
   ]
  },
  {
   "cell_type": "code",
   "execution_count": null,
   "metadata": {},
   "outputs": [],
   "source": []
  },
  {
   "cell_type": "markdown",
   "metadata": {},
   "source": [
    "<br><div class=\"alert alert-info\"><b>Task 10</b></div>\n",
    "Write a program that loads the distance in kilometers and prints the distance in miles (1 mile is approximately 1.6km)"
   ]
  },
  {
   "cell_type": "code",
   "execution_count": null,
   "metadata": {},
   "outputs": [],
   "source": []
  },
  {
   "cell_type": "markdown",
   "metadata": {},
   "source": [
    "<br><div class=\"alert alert-info\"><b>Task 11</b></div>\n",
    "Write a program that loads the heights of 3 students and prints the average height"
   ]
  },
  {
   "cell_type": "code",
   "execution_count": null,
   "metadata": {},
   "outputs": [],
   "source": []
  },
  {
   "cell_type": "markdown",
   "metadata": {},
   "source": [
    "<br><div class=\"alert alert-info\"><b>Task 12</b></div>\n",
    "An athlete throws the javelin and throws the following distances in 5 attempts: 92 m, 97 m, 95.4 m, 90.1 m, 96 m. Calculate the average distance."
   ]
  },
  {
   "cell_type": "code",
   "execution_count": null,
   "metadata": {},
   "outputs": [],
   "source": []
  },
  {
   "cell_type": "markdown",
   "metadata": {},
   "source": [
    "<br><div class=\"alert alert-info\"><b>Task 13</b></div>\n",
    "Read a character from the user and draw something like this using that character (assuming that user entered *x*):\n",
    "```\n",
    "|   x     |\n",
    "|  xxx    |\n",
    "| xxxxx   |\n",
    "```"
   ]
  },
  {
   "cell_type": "code",
   "execution_count": null,
   "metadata": {},
   "outputs": [],
   "source": []
  },
  {
   "cell_type": "markdown",
   "metadata": {},
   "source": [
    "<br><div class=\"alert alert-info\"><b>Task 14</b></div>\n",
    "Write a program that takes a word and outputs:\n",
    "* the first half in uppercase\n",
    "* the second half in lowercase\n",
    "\n",
    "E.g. for \"sOmElOnGwOrD\" it should output \"SOMELOngword\""
   ]
  },
  {
   "cell_type": "code",
   "execution_count": null,
   "metadata": {},
   "outputs": [],
   "source": []
  },
  {
   "cell_type": "markdown",
   "metadata": {},
   "source": [
    "<br><div class=\"alert alert-info\"><b>Task 15</b></div>\n",
    "Write a program that takes a template and replaces all occurrences of `%ITEM%` and `%PRICE%` with appropriate inputs from the user.\n",
    "For replacing a word in a string use `replace()` function, like this: `word.replace(\"original\", \"replacement\")`.\n",
    "\n",
    "Template is the following string:\n",
    "`template = \"Item name: %ITEM%\\nPrice: %PRICE%\\n\\nPrice for %ITEM% is $%PRICE%\"`"
   ]
  },
  {
   "cell_type": "code",
   "execution_count": null,
   "metadata": {},
   "outputs": [],
   "source": []
  }
 ],
 "metadata": {
  "kernelspec": {
   "display_name": "Python 3.10.5 64-bit",
   "language": "python",
   "name": "python3"
  },
  "language_info": {
   "codemirror_mode": {
    "name": "ipython",
    "version": 3
   },
   "file_extension": ".py",
   "mimetype": "text/x-python",
   "name": "python",
   "nbconvert_exporter": "python",
   "pygments_lexer": "ipython3",
   "version": "3.10.5"
  },
  "vscode": {
   "interpreter": {
    "hash": "3553903dba64754d2bfb0d59acd2dbff5bc8fcd3f403a6584ff751f2f4eee55f"
   }
  }
 },
 "nbformat": 4,
 "nbformat_minor": 2
}
