{
 "cells": [
  {
   "cell_type": "markdown",
   "metadata": {},
   "source": [
    "# 1. Introduction to Python - development environment"
   ]
  },
  {
   "cell_type": "markdown",
   "metadata": {},
   "source": [
    "## 1.1 Login to Jupyter\n",
    "\n",
    "We will use the Jupyter Notebook programming environment.\n",
    "Alternatives: PyCharm, IDLE, Atom, Visual Studio Code...\n",
    "Jupyter Notebook programming environment integrates:\n",
    "* Editor for writing program code\n",
    "* Interpreter\n",
    "\n",
    "What is interpreter?\n",
    "* Programmers write source code, the operating system understands executable code.\n",
    "* The interpreter translates source code into executable code on the fly\n",
    "\n",
    "Algebra's Jupyter Notebook is available:\n",
    "* From the Algebra Network: http://pythonr.vua.cloud:8888\n",
    "* From the classroom (here): http://pythonr.ucione.local:8888\n",
    "* Fallback 1: http://10.10.253.200:8888 \n",
    "* Fallback 2: http://193.198.186.130:8888/\n",
    "\n",
    "\n",
    "Credentials:\n",
    "* Username: {username from Infoeduka}\n",
    "* Password: Lozinka1234\n",
    "\n",
    "At the end of this step you should be succesfully logged in to Jupyter Notebook programming environment.\n"
   ]
  },
  {
   "cell_type": "markdown",
   "metadata": {},
   "source": [
    "## 1.2 Change Jupyter password\n",
    "\n",
    "Changing the password is done through the terminal.\n",
    "\n",
    "### Steps:\n",
    "1. select the option **\"New\"**\n",
    "\n",
    "![new](Images/New1.jpg)\n",
    "\n",
    "2. choose **\"Terminal\"** from the drop-down menu\n",
    "\n",
    "![terminal](Images/Terminal.jpg)\n",
    "\n",
    "3. enter the command: **passwd**\n",
    "     - enter the old password\n",
    "     - enter a new password\n",
    "     - re-enter the new password\n",
    "\n",
    "**NOTE:** When typing the password, it will look like nothing is being entered. \n",
    "Don't worry, you're typing it but it's not shown as usual string of asterisks.\n",
    "\n",
    "4. Now logout and login again to confirm that you changed password.\n",
    "\n",
    "At the end of this step you should be succesfully logged in to Jupyter Notebook using your new password.\n"
   ]
  },
  {
   "cell_type": "markdown",
   "metadata": {},
   "source": [
    "## 1.3 Create a new Jupyter Notebook\n",
    "\n",
    "* First create a folder \"Programming in Python\" (create and rename)\n",
    "* Enter the folder and create new Python3 Notebook\n",
    "* Enter the notebook, change its name (Untitled) to \"First Notebook\"\n",
    "* Help > User Interface Tour\n",
    "\n",
    "At the end of this step you should have a new Jupyter Notebook that you can work with."
   ]
  },
  {
   "cell_type": "markdown",
   "metadata": {},
   "source": [
    "## 1.4 Working in Jupyter Notebook\n",
    "\n",
    "* Nice tutorial: https://www.youtube.com/watch?v=HW29067qVWk\n",
    "* Create a markdown cell (markdown syntax)\n",
    "* Create a code cell"
   ]
  },
  {
   "cell_type": "markdown",
   "metadata": {},
   "source": [
    "<br><div class=\"alert alert-info\"><b>Example 1</b></div>\n",
    "### We start with a calculator\n",
    "\n",
    "* 5+7\n",
    "* 5*7\n",
    "* 7-5\n",
    "* 7/5\n",
    "\n",
    "These are called expressions, and they have a result when calculated\n"
   ]
  },
  {
   "cell_type": "code",
   "execution_count": 4,
   "metadata": {},
   "outputs": [
    {
     "name": "stdout",
     "output_type": "stream",
     "text": [
      "12\n",
      "35\n",
      "2\n",
      "1.4\n"
     ]
    }
   ],
   "source": [
    "print(5+7)\n",
    "print(5*7)\n",
    "print(7-5)\n",
    "print(7/5)"
   ]
  },
  {
   "cell_type": "markdown",
   "metadata": {},
   "source": [
    "<br><div class=\"alert alert-info\"><b>Example 2</b></div>\n",
    "### Calculator with variables\n",
    "\n",
    "* x = 5+7\n",
    "* x = 5*7\n",
    "* x = 7-5\n",
    "* x = 7/5\n",
    "\n",
    "Calculate expressions and send the result to print()"
   ]
  },
  {
   "cell_type": "code",
   "execution_count": 6,
   "metadata": {},
   "outputs": [
    {
     "name": "stdout",
     "output_type": "stream",
     "text": [
      "12\n"
     ]
    }
   ],
   "source": [
    "x=5+7\n",
    "print(x)"
   ]
  },
  {
   "cell_type": "markdown",
   "metadata": {},
   "source": [
    "<br><div class=\"alert alert-info\"><b>Example 3</b></div>\n",
    "### Calculator of seconds and minutes\n",
    "\n",
    "* x = 133\n",
    "\n",
    "Expected result:\n",
    "* minutes = 2\n",
    "* seconds = 13\n",
    "\n",
    "Steps:\n",
    "* convert seconds to minutes by using whole-number division\n",
    "* multiply minutes with 60 and substract that from x\n",
    "* the last calculation is number of seconds"
   ]
  },
  {
   "cell_type": "code",
   "execution_count": null,
   "metadata": {},
   "outputs": [
    {
     "ename": "",
     "evalue": "",
     "output_type": "error",
     "traceback": [
      "\u001b[1;31mJupyter cannot be started. Error attempting to locate Jupyter: Running cells with 'Python 3.10.4 64-bit ('3.10.4')' requires jupyter and notebook package.\n",
      "\u001b[1;31mRun the following command to install 'jupyter and notebook' into the Python environment. \n",
      "\u001b[1;31mCommand: 'python -m pip install jupyter notebook -U\n",
      "\u001b[1;31mor\n",
      "\u001b[1;31mconda install jupyter notebook -U'\n",
      "\u001b[1;31mClick <a href='https://aka.ms/installJupyterForVSCode'>here</a> for more info."
     ]
    }
   ],
   "source": [
    "x = 133\n",
    "minutes = x // 60\n",
    "print(minutes)\n",
    "seconds = x - minutes * 60\n",
    "print(seconds)"
   ]
  }
 ],
 "metadata": {
  "kernelspec": {
   "display_name": "Python 3.10.4 64-bit ('3.10.4')",
   "language": "python",
   "name": "python3"
  },
  "language_info": {
   "codemirror_mode": {
    "name": "ipython",
    "version": 3
   },
   "file_extension": ".py",
   "mimetype": "text/x-python",
   "name": "python",
   "nbconvert_exporter": "python",
   "pygments_lexer": "ipython3",
   "version": "3.10.4"
  },
  "orig_nbformat": 4,
  "vscode": {
   "interpreter": {
    "hash": "3c48a91690f4f73f95eaae419a8c575fe423f68af06d850eb429d079f6d3699f"
   }
  }
 },
 "nbformat": 4,
 "nbformat_minor": 2
}
